{
 "cells": [
  {
   "cell_type": "markdown",
   "metadata": {},
   "source": [
    "# Assignment 1 - Probability, Linear Algebra, Programming, and Git\n",
    "\n",
    "## *Vivek Sahukar*\n",
    "Netid:  *vs165*"
   ]
  },
  {
   "cell_type": "markdown",
   "metadata": {},
   "source": [
    "# Probability and Statistics Theory"
   ]
  },
  {
   "cell_type": "markdown",
   "metadata": {
    "collapsed": true
   },
   "source": [
    "## 1\n",
    "Let $f(x) = \\begin{cases}\n",
    "                0           & x < 0  \\\\\n",
    "                \\alpha x^2  & 0 \\leq x \\leq 2 \\\\\n",
    "                0           & 2 < x\n",
    "            \\end{cases}$\n",
    "            \n",
    "For what value of $\\alpha$ is $f(x)$ a valid probability density function?\n",
    "\n",
    "*Note: for all assignments, write out all equations and math for all assignments using markdown and [LaTeX](https://tobi.oetiker.ch/lshort/lshort.pdf) and show all work*"
   ]
  },
  {
   "cell_type": "markdown",
   "metadata": {},
   "source": [
    "**ANSWER**\n",
    "\n",
    "$$\\int _{0}^{2}f\\left( x\\right) dx=1\\\\\\int _{0}^{2}\\alpha x^{2}dx=\\alpha \\left[ \\begin{matrix} x^{3}\\\\ -\\\\ 3\\end{matrix} \\right] _{0}^{2}=\\frac {\\alpha } {3}\\left[ \\begin{matrix} 2^{3} - 0^{3}\\end{matrix} \\right] =\\frac {8\\alpha } {3}=1\\\\\\Rightarrow \\alpha =3 / 8 $$\n"
   ]
  },
  {
   "cell_type": "markdown",
   "metadata": {},
   "source": [
    "## 2\n",
    "What is the cumulative distribution function (CDF) that corresponds to the following probability distribution function? Please state the value of the CDF for all possible values of $x$.\n",
    "\n",
    "$f(x) = \\begin{cases}\n",
    "    \\frac{1}{3} & 0 < x < 3 \\\\\n",
    "    0           & \\text{otherwise}\n",
    "    \\end{cases}$"
   ]
  },
  {
   "cell_type": "markdown",
   "metadata": {},
   "source": [
    "CDF = $F(x) = \\begin{cases}\n",
    "    \\frac{x}{3} & 0 < x < 3 \\\\\n",
    "    0           & x < 0 \\\\\n",
    "    1           & x > 3\n",
    "    \\end{cases}$"
   ]
  },
  {
   "cell_type": "markdown",
   "metadata": {},
   "source": [
    "## 3\n",
    "For the probability distribution function for the random variable $X$,\n",
    "\n",
    "$f(x) = \\begin{cases}\n",
    "    \\frac{1}{3} & 0 < x < 3 \\\\\n",
    "    0           & \\text{otherwise}\n",
    "    \\end{cases}$\n",
    "    \n",
    "what is the (a) expected value and (b) variance of $X$. *Show all work*."
   ]
  },
  {
   "cell_type": "markdown",
   "metadata": {},
   "source": [
    "**ANSWER**\n",
    "\n",
    "(a) Expected value:\n",
    "\n",
    "$$E\\left( x\\right) =\\int _{-\\infty }^{\\infty }xP\\left( x\\right) dx=\\int _{-\\infty }^{0}x\\left( 0\\right) dx+\\int _{0}^{3}\\frac {1} {3}xdx+\\int _{3}^{\\infty }x.0dx\\\\=0+\\frac {1} {3}\\left[ \\begin{matrix} x^{2}\\\\ -\\\\ 2\\end{matrix} \\right] _{0}^{3}+0\\\\=\\frac {3^{2}} {3.2}=\\frac {3} {2} $$\n",
    "\n",
    "\n",
    "(b) Variance:\n",
    "$$V\\left( x\\right) =\\int x^{2}f\\left( x\\right) dx-\\mu ^{2}\\\\=\\int _{-\\infty }^{0}x^{2}0dx+\\int _{0}^{3}\\frac {1} {3}x^{2}dx+\\int _{3}^{\\infty }x^{2}0dx-\\left( \\frac {3} {2}\\right) ^{2}\\\\=0+\\frac {1} {3}\\left[ \\begin{matrix} x^{3}\\\\ -\\\\ 3\\end{matrix} \\right] _{0}^{3}+0-\\frac {9} {4}\\\\=\\frac {3^{2}} {3}-\\frac {9} {4}=\\frac {3} {4} $$\n"
   ]
  },
  {
   "cell_type": "markdown",
   "metadata": {},
   "source": [
    "## 4\n",
    "Consider the following table of data that provides the values of a discrete data vector $\\mathbf{x}$ of samples from the random variable $X$, where each entry in $\\mathbf{x}$ is given as $x_i$.\n",
    "\n",
    "*Table 1. Dataset N=5 observations*\n",
    "\n",
    "|        | $x_0$ | $x_1$ | $x_2$ | $x_3$ | $x_4$ |\n",
    "|------  |-------|-------|-------|-------|-------|\n",
    "|$\\textbf{x}$| 2     | 3     | 10    | -1    | -1    |\n",
    "\n",
    "What is the (a) mean, (b) variance, and the  of the data? \n",
    "\n",
    "*Show all work. Your answer should include the definition of mean, median, and variance in the context of discrete data.*"
   ]
  },
  {
   "cell_type": "markdown",
   "metadata": {},
   "source": [
    "**ANSWER**\n",
    "\n",
    "(a) Mean\n",
    "\n",
    "$$Mean=E\\left( x\\right) =\\sum _{i=1}^{k}x_{i}.P\\left( X=x_{i}\\right) =\\frac {1} {5}\\left[ 2+3+10-1-1\\right] =\\frac {13} {5}=2.6$$\n",
    "\n",
    "(b) Variance\n",
    "\n",
    "$$\\sigma ^{2}=V\\left( x\\right) =\\sum_{i=1}^{k}\\left( x_{i}-\\mu\\right) ^{2}P\\left( X=x_{i}\\right) \\\\=\\frac {1} {5}\\left[ \\left( 2-2.6\\right) ^{2}+\\left( 3-2.6\\right) ^{2}+\\left( 10-2.6\\right) ^{2}+\\left( -1-2.6\\right) ^{2}+\\left( -1-2.6\\right) ^{2}\\right] = 16.24 $$"
   ]
  },
  {
   "cell_type": "markdown",
   "metadata": {},
   "source": [
    "## 5\n",
    "Review of counting from probability theory. \n",
    "\n",
    "(a) How many different 7-place license plates are possible if the first 3 places only contain letters and the last 4 only contain numbers?\n",
    "\n",
    "(b) How many different batting orders are possible for a baseball team with 9 players?\n",
    "\n",
    "(c) How many batting orders of 5 players are possible for a team with 9 players total?\n",
    "\n",
    "(d) Let's assume this class has 26 students and we want to form project teams. How many unique teams of 3 are possible?\n",
    "\n",
    "*Hint: For each problem, determine if order matters, and if it should be calculated with or without replacement.*"
   ]
  },
  {
   "cell_type": "markdown",
   "metadata": {},
   "source": [
    "**ANSWER**\n",
    "\n",
    "(a) \n",
    "\n",
    "First 3 places can be chosen from 26 letters in ways: $26^{3}$\n",
    "\n",
    "Last 4 places can be chosen from 10 digits in ways: $10^{4}$\n",
    "\n",
    "Multiplying these two options gives the total number of ways = **175,760,000**\n",
    "\n",
    "Order matters because changing the order of numbers or letters changes the license plate. Since, there is no condition about not repeating a certain number or alphabet, the choice is with replacement.\n",
    "\n",
    "(b)\n",
    "\n",
    "Different batting orders possible are 9! = **362,880**\n",
    "\n",
    "Order matters and choice is without replacement since once a player has been chosen for a particular order, he/she cannot be chosen again.\n",
    "\n",
    "(c)\n",
    "\n",
    "First ways to choose 5 players out of 9 players = ${9 \\choose 5}$\n",
    "\n",
    "Then, those players can be permuted in 5! ways, since order matters.\n",
    "\n",
    "Therefore, Different batting orders possible = ${9 \\choose 5}$ x 5! = **15120**\n",
    "\n",
    "Order matters and choice is without replacement since once a player has been chosen for a particular order, he/she cannot be chosen again.\n",
    "\n",
    "(d)\n",
    "\n",
    "Number of ways to form unique teams of 3 students = ${26 \\choose 3} = **2600**\n",
    "\n",
    "Here, order does not matter, since team should be unique. Moreover, the choice is without replacement since once a student has been chosen, he/she cannnot join other team.\n",
    "\n"
   ]
  },
  {
   "cell_type": "markdown",
   "metadata": {},
   "source": [
    "# Linear Algebra"
   ]
  },
  {
   "cell_type": "markdown",
   "metadata": {},
   "source": [
    "## 6\n",
    "**Matrix manipulations and multiplication**. Machine learning involves working with many matrices, so this exercise will provide you with the opportunity to practice those skills.\n",
    "\n",
    "Let\n",
    "$\\mathbf{A} =  \\begin{bmatrix}\n",
    "1 & 2 & 3 \\\\\n",
    "2 & 4 & 5 \\\\\n",
    "3 & 5 & 6 \n",
    "\\end{bmatrix}$, $\\mathbf{b} =  \\begin{bmatrix}\n",
    "-1  \\\\\n",
    "3  \\\\\n",
    "8  \n",
    "\\end{bmatrix}$, $\\mathbf{c} =  \\begin{bmatrix}\n",
    "4  \\\\\n",
    "-3  \\\\\n",
    "6  \n",
    "\\end{bmatrix}$, and $\\mathbf{I} =  \\begin{bmatrix}\n",
    "1 & 0 & 0 \\\\\n",
    "0 & 1 & 0 \\\\\n",
    "0 & 0 & 1 \n",
    "\\end{bmatrix}$\n",
    "\n",
    "Compute the following or indicate that it cannot be computed:\n",
    "\n",
    "1. $\\mathbf{A}\\mathbf{A}$\n",
    "2. $\\mathbf{A}\\mathbf{A}^T$\n",
    "3. $\\mathbf{A}\\mathbf{b}$\n",
    "4. $\\mathbf{A}\\mathbf{b}^T$\n",
    "5. $\\mathbf{b}\\mathbf{A}$\n",
    "6. $\\mathbf{b}^T\\mathbf{A}$\n",
    "7. $\\mathbf{b}\\mathbf{b}$\n",
    "8. $\\mathbf{b}^T\\mathbf{b}$\n",
    "9. $\\mathbf{b}\\mathbf{b}^T$\n",
    "10. $\\mathbf{b} + \\mathbf{c}^T$\n",
    "11. $\\mathbf{b}^T\\mathbf{b}^T$\n",
    "12. $\\mathbf{A}^{-1}\\mathbf{b}$\n",
    "13. $\\mathbf{A}\\circ\\mathbf{A}$\n",
    "14. $\\mathbf{b}\\circ\\mathbf{c}$\n",
    "\n",
    "*Note: The element-wise (or Hadamard) product is the product of each element in one matrix with the corresponding element in another matrix, and is represented by the symbol \"$\\circ$\".*"
   ]
  },
  {
   "cell_type": "code",
   "execution_count": 1,
   "metadata": {},
   "outputs": [],
   "source": [
    "import numpy as np\n",
    "from numpy import linalg as LA\n",
    "\n",
    "# wherever the multiplication is not possible due to dimensions mismatch between 2 matrices, Value error is printed.\n",
    "\n",
    "A = np.array([[1,2,3],\n",
    "             [2,4,5],\n",
    "             [3,5,6]\n",
    "             ])\n",
    "\n",
    "b = np.array([-1, 3, 8]).reshape(3, 1)\n",
    "\n",
    "c = np.array([4, -3, 6]).reshape(3, 1)\n",
    "\n",
    "I = np.identity(3)\n"
   ]
  },
  {
   "cell_type": "code",
   "execution_count": 2,
   "metadata": {},
   "outputs": [],
   "source": [
    "# ANSWER\n",
    "# 1. AA\n",
    "mat1 = A @ A\n",
    "mat2 = A @ A.T\n",
    "mat3 = A @ b\n",
    "# mat4 (A @ b.T) not possible due to dimensions mismatch: shapes (3,3) and (1,3) not aligned: 3 (dim 1) != 1 (dim 0)\n",
    "# mat5 (b @ A) not possible due to dimensions mismatch: shapes (3,1) and (3,3) not aligned: 1 (dim 1) != 3 (dim 0)\n",
    "mat6 = b.T @ A\n",
    "# mat7 (b @ b) not possible due to dimensions mismatch: shapes (3,1) and (3,1) not aligned: 1 (dim 1) != 3 (dim 0)\n",
    "mat8 = b.T @ b\n",
    "mat9 = b @ b.T\n",
    "mat10 = b + c.T\n",
    "# Python recycles the vector hence the sum (3x3 matrix) is produced.\n",
    "# However, mat10 is not possible since the dimensions of b(3,1) and c.transpose(1,3) don't match. \n",
    "# mat11 (b.T @ b.T) is not possible due to dimensions mismatch: shapes (1,3) and (1,3) not aligned: 3 (dim 1) != 1 (dim 0)\n",
    "mat12 = LA.inv(A) @ b\n",
    "mat13 = np.multiply(A, A)\n",
    "mat14 = np.multiply(b, c)"
   ]
  },
  {
   "cell_type": "markdown",
   "metadata": {},
   "source": [
    "$\\mathbf{matrix1} = \n",
    "\\begin{bmatrix}\n",
    "   14 &   25 &   31\\\\\n",
    "   25 &   45 &   56\\\\\n",
    "   31 &   56 &   70\n",
    "\\end{bmatrix}$\n",
    "\n",
    "$\\mathbf{matrix2} =\n",
    "\\begin{bmatrix}\n",
    "   14 &   25 &   31\\\\\n",
    "   25 &   45 &   56\\\\\n",
    "   31 &   56 &   70\n",
    "\\end{bmatrix}$\n",
    "\n",
    "$\\mathbf{matrix3} = \n",
    "\\begin{bmatrix}\n",
    "   29\\\\\n",
    "   50\\\\\n",
    "   60\n",
    "\\end{bmatrix}$\n",
    "\n",
    "$\\mathbf{matrix4}$ is not possible due to dimensions mismatch: shapes (3,3) and (1,3) not aligned: 3 (dim 1) != 1 (dim 0)\n",
    "\n",
    "$\\mathbf{matrix5}$ is not possible due to dimensions mismatch: shapes (3,1) and (3,3) not aligned: 1 (dim 1) != 3 (dim 0)\n",
    "\n",
    "$\\mathbf{matrix6} =\n",
    "\\begin{bmatrix}\n",
    "   29 &   50 &   60\n",
    "\\end{bmatrix}$\n",
    "\n",
    "$\\mathbf{matrix7}$ is not possible due to dimensions mismatch: shapes (3,1) and (3,1) not aligned: 1 (dim 1) != 3 (dim 0)\n",
    "\n",
    "$\\mathbf{matrix8} =\n",
    "\\begin{bmatrix}\n",
    "   74\n",
    "\\end{bmatrix}$\n",
    "\n",
    "$\\mathbf{matrix9} =\n",
    "\\begin{bmatrix}\n",
    "    1 &  -3 &  -8\\\\\n",
    "  -3 &    9 &   24\\\\\n",
    "  -8 &   24 &   64\n",
    "\\end{bmatrix}$\n",
    "\n",
    "$\\mathbf{matrix10} =\n",
    "\\begin{bmatrix}\n",
    "    3 &  -4 &    5\\\\\n",
    "    7 &    0 &    9\\\\\n",
    "   12 &    5 &   14\n",
    "\\end{bmatrix}$\n",
    "\n",
    "*Python recycles the vector hence the sum (3x3 matrix) is produced.*\n",
    "**However, matrix10 is not possible since the dimensions of b(3,1) and c.transpose(1,3) don't match.**\n",
    "\n",
    "$\\mathbf{matrix11}$ is not possible due to dimensions mismatch: shapes (1,3) and (1,3) not aligned: 3 (dim 1) != 1 (dim 0)\n",
    "\n",
    "$\\mathbf{matrix12} =\n",
    "\\begin{bmatrix}\n",
    "    6\\\\\n",
    "    4\\\\\n",
    "  -5\n",
    "\\end{bmatrix}$\n",
    "\n",
    "$\\mathbf{matrix13} =\n",
    "\\begin{bmatrix}\n",
    "    1 &    4 &    9\\\\\n",
    "    4 &   16 &   25\\\\\n",
    "    9 &   25 &   36\n",
    "\\end{bmatrix}$\n",
    "\n",
    "$\\mathbf{matrix14} =\n",
    "\\begin{bmatrix}\n",
    "  -4\\\\\n",
    "  -9\\\\\n",
    "   48\n",
    "\\end{bmatrix}$"
   ]
  },
  {
   "cell_type": "markdown",
   "metadata": {},
   "source": [
    "## 6\n",
    "**Eigenvectors and eigenvalues**. Eigenvectors and eigenvalues are useful for some machine learning algorithms, but the concepts take time to solidly grasp. For an intuitive review of these concepts, explore this [interactive website at Setosa.io](http://setosa.io/ev/eigenvectors-and-eigenvalues/). Also, the series of linear algebra videos by Grant Sanderson of 3Brown1Blue are excellent and can be viewed on youtube [here](https://www.youtube.com/playlist?list=PLZHQObOWTQDPD3MizzM2xVFitgF8hE_ab).\n",
    "\n",
    "1. Calculate the eigenvalues and corresponding eigenvectors of matrix $\\mathbf{A}$ above, from the last question.\n",
    "2. Choose one of the eigenvector/eigenvalue pairs, $\\mathbf{v}$ and $\\lambda$, and show that $\\mathbf{A} \\mathbf{v} = \\lambda \\mathbf{v}$. Also show that this relationship extends to higher orders: $\\mathbf{A} \\mathbf{A} \\mathbf{v} = \\lambda^2 \\mathbf{v}$\n",
    "3. Show that the eigenvectors are orthogonal to one another (e.g. their inner product is zero). This is true for real, symmetric matrices."
   ]
  },
  {
   "cell_type": "code",
   "execution_count": 3,
   "metadata": {},
   "outputs": [],
   "source": [
    "# 6.1\n",
    "w, v = LA.eig(A)\n",
    "\n",
    "# 6.2\n",
    "\n",
    "w1 = w[1] # extract second eigenvalue\n",
    "v1 = v[:, 1] # extract second eigenvector corresponding to second eigenvalue\n",
    "A @ v1.reshape(3,1) # multiply matrix by eigenvector\n",
    "np.dot(A, v1) # another method to multiply matrix by eigenvector\n",
    "w1 * v1 # multiply eigenvalue with eigenvector\n",
    "\n",
    "# showing that his relationship extends to higher orders: AAv = lambda^2 v\n",
    "AAv = A @ (np.dot(A, v1))\n",
    "w1v1 = (w1**2) * v1\n",
    "\n",
    "# 6.3 \n",
    "v0, v1, v2 = [v[:, i] for i in range(3)] # Extract each column of eigenmatrix as eigenvector\n",
    "v0v1 = np.dot(v0, v1)\n",
    "v1v2 = np.dot(v1, v2)\n",
    "v2v0 = np.dot(v2, v0)\n",
    "# all values are extremely small so the inner product of the eigenvectors is zero.Thus the eignvectors are orthogonal.\n"
   ]
  },
  {
   "cell_type": "markdown",
   "metadata": {},
   "source": [
    "**ANSWER**\n",
    "\n",
    "*floats rounded off to 4 decimal places*\n",
    "\n",
    "### 6.1\n",
    "$\\mathbf{eigenvalue1, \\lambda_{0}} = 11.3448$, $\\mathbf{eigenvector1, v_{0}} = \n",
    "\\begin{bmatrix}\n",
    " -0.32798 \\\\ -0.59100 \\\\ -0.73697\n",
    "\\end{bmatrix}$\n",
    "\n",
    "$\\mathbf{eigenvalue2, \\lambda_{1}} = -0.5157$, $\\mathbf{eigenvector2, v_{1}} = \n",
    "\\begin{bmatrix}\n",
    " -0.73697 \\\\ -0.32798 \\\\ -0.59100\n",
    "\\end{bmatrix}$\n",
    "\n",
    "$\\mathbf{eigenvalue3, \\lambda_{2}} = 0.1709$, $\\mathbf{eigenvector3, v_{2}} = \n",
    "\\begin{bmatrix}\n",
    " 0.59100 \\\\ -0.73697 \\\\ 0.32798\n",
    "\\end{bmatrix}$\n",
    "\n",
    "### 6.2\n",
    "\n",
    "$\\mathbf{A}\\mathbf{v_{1}}$ = $\\begin{bmatrix}\n",
    "  0.38008\\\\\n",
    "  0.16915\\\\\n",
    " -0.30480\n",
    "\\end{bmatrix}$, $\\lambda_{2} \\mathbf{v}$ = $\\begin{bmatrix}\n",
    "  0.38008 \\\\  0.16915 \\\\ -0.30480\n",
    "\\end{bmatrix}$\n",
    "\n",
    "Hence, $\\mathbf{A}\\mathbf{v_{1}} = \\lambda_{2} \\mathbf{v}$\n",
    "\n",
    "Also, $\\mathbf{A} \\mathbf{A} \\mathbf{v_{1}}$ = $\\begin{bmatrix}\n",
    " -0.19601 \\\\ -0.08723 \\\\  0.15719\n",
    "\\end{bmatrix}$, $\\lambda_2^2 \\mathbf{v}$ = $\\begin{bmatrix}\n",
    " -0.19601 \\\\ -0.08723 \\\\  0.15719\n",
    "\\end{bmatrix}$\n",
    "\n",
    "\n",
    "Hence, $\\mathbf{A} \\mathbf{A} \\mathbf{v_{1}} = \\lambda_2^2 \\mathbf{v}$\n",
    "\n",
    "### 6.3\n",
    "\n",
    "$\\mathbf{v_{0}} . \\mathbf{v_{1}}$ = -2.22e-16; \n",
    "$\\mathbf{v_{1}} . \\mathbf{v_{2}}$ = -1.05e-15; \n",
    "$\\mathbf{v_{2}} . \\mathbf{v_{0}}$ = -4.44e-16\n",
    "\n",
    "All dot product values are extremely small so the inner product of the eigenvectors is zero (due to floating point calculation). Thus the eignvectors are orthogonal."
   ]
  },
  {
   "cell_type": "markdown",
   "metadata": {},
   "source": [
    "# Numerical Programming"
   ]
  },
  {
   "cell_type": "markdown",
   "metadata": {},
   "source": [
    "## 7\n",
    "Speed comparison between vectorized and non-vectorized code. Begin by creating an array of 10 million random numbers using the numpy random.randn module. Compute the sum of the squares first in a for loop, then using Numpy's `dot` module. Time how long it takes to compute each and report the results and report the output. How many times faster is the vectorized code than the for loop approach?\n",
    "\n",
    "*Note: all code should be well commented, properly formatted, and your answers should be output using the `print()` function as follows (where the # represents your answers, to a reasonable precision):\n",
    "\n",
    "`Time [sec] (non-vectorized): ######`\n",
    "\n",
    "`Time [sec] (vectorized):     ######`\n",
    "\n",
    "`The vectorized code is ##### times faster than the vectorized code`"
   ]
  },
  {
   "cell_type": "markdown",
   "metadata": {},
   "source": [
    "**ANSWER**"
   ]
  },
  {
   "cell_type": "code",
   "execution_count": 4,
   "metadata": {},
   "outputs": [
    {
     "name": "stdout",
     "output_type": "stream",
     "text": [
      "Time [sec] (non-vectorized): 6.286109924316406\n",
      "\n",
      "Time [sec] (vectorized): 0.008989095687866211\n",
      "\n",
      "The vectorized code is 699.3039280693844 times faster than non-vectorized code\n"
     ]
    }
   ],
   "source": [
    "import numpy as np\n",
    "import time\n",
    "np.random.seed(1) # setting the random seed \n",
    "\n",
    "# Generate the random samples\n",
    "s = np.random.randn(10000000)\n",
    "\n",
    "# Compute the sum of squares the non-vectorized way (using a for loop)\n",
    "start_time_long = time.time()\n",
    "sum_of_squares_non_vectorized = 0\n",
    "for i in s:\n",
    "    sum_of_squares_non_vectorized += i**2\n",
    "end_time_long = time.time()\n",
    "time_non_vectorized = end_time_long - start_time_long\n",
    "\n",
    "# Compute the sum of squares the vectorized way (using numpy)\n",
    "start_time_short = time.time()\n",
    "sum_of_squares_vectorized = np.dot(s, s)\n",
    "end_time_short = time.time()\n",
    "time_vectorized = end_time_short - start_time_short\n",
    "\n",
    "times_comparison = time_non_vectorized / time_vectorized\n",
    "\n",
    "# Print the results\n",
    "print(f'Time [sec] (non-vectorized): {time_non_vectorized}\\n')\n",
    "print(f'Time [sec] (vectorized): {time_vectorized}\\n')\n",
    "print(f'The vectorized code is {times_comparison} times faster than non-vectorized code')"
   ]
  },
  {
   "cell_type": "markdown",
   "metadata": {},
   "source": [
    "## 8\n",
    "One popular Agile development framework is Scrum (a paradigm recommended for data science projects). It emphasizes the continual evolution of code for projects, becoming progressively better, but starting with a quickly developed minimum viable product. This often means that code written early on is not optimized, and that's a good thing - it's best to get it to work first before optimizing. Imagine that you wrote the following code during a sprint towards getting an end-to-end system working. Vectorize the following code and show the difference in speed between the current implementation and a vectorized version.\n",
    "\n",
    "The function below computes the function $f(x,y) = x^2 - 2 y^2$ and determines whether this quantity is above or below a given threshold, `thresh=0`. This is done for $x,y \\in \\{-4,4\\}$, over a 2,000-by-2,000 grid covering that domain.\n",
    "\n",
    "(a) Vectorize this code and demonstrate (as in the last exercise) the speed increase through vectorization and (b) plot the resulting data - both the function $f(x,y)$ and the thresholded output - using [`imshow`](https://matplotlib.org/api/_as_gen/matplotlib.pyplot.imshow.html?highlight=matplotlib%20pyplot%20imshow#matplotlib.pyplot.imshow) from `matplotlib`.\n",
    "\n",
    "*Hint: look at the `numpy` [`meshgrid`](https://docs.scipy.org/doc/numpy-1.13.0/reference/generated/numpy.meshgrid.html) documentation*"
   ]
  },
  {
   "cell_type": "code",
   "execution_count": 1,
   "metadata": {},
   "outputs": [
    {
     "data": {
      "text/plain": [
       "<Figure size 640x480 with 2 Axes>"
      ]
     },
     "metadata": {},
     "output_type": "display_data"
    },
    {
     "ename": "TypeError",
     "evalue": "numpy boolean subtract, the `-` operator, is deprecated, use the bitwise_xor, the `^` operator, or the logical_xor function instead.",
     "output_type": "error",
     "traceback": [
      "\u001b[0;31m---------------------------------------------------------------------------\u001b[0m",
      "\u001b[0;31mTypeError\u001b[0m                                 Traceback (most recent call last)",
      "\u001b[0;32m<ipython-input-1-6a57d6b29993>\u001b[0m in \u001b[0;36m<module>\u001b[0;34m\u001b[0m\n\u001b[1;32m     36\u001b[0m \u001b[0mplt\u001b[0m\u001b[0;34m.\u001b[0m\u001b[0mylabel\u001b[0m\u001b[0;34m(\u001b[0m\u001b[0;34m'y'\u001b[0m\u001b[0;34m)\u001b[0m\u001b[0;34m\u001b[0m\u001b[0;34m\u001b[0m\u001b[0m\n\u001b[1;32m     37\u001b[0m \u001b[0mplt\u001b[0m\u001b[0;34m.\u001b[0m\u001b[0mtitle\u001b[0m\u001b[0;34m(\u001b[0m\u001b[0;34m'$f(x,y) > 0$'\u001b[0m\u001b[0;34m)\u001b[0m\u001b[0;34m\u001b[0m\u001b[0;34m\u001b[0m\u001b[0m\n\u001b[0;32m---> 38\u001b[0;31m \u001b[0mplt\u001b[0m\u001b[0;34m.\u001b[0m\u001b[0mgcf\u001b[0m\u001b[0;34m(\u001b[0m\u001b[0;34m)\u001b[0m\u001b[0;34m.\u001b[0m\u001b[0mcolorbar\u001b[0m\u001b[0;34m(\u001b[0m\u001b[0mplot2\u001b[0m\u001b[0;34m,\u001b[0m \u001b[0mlabel\u001b[0m\u001b[0;34m=\u001b[0m\u001b[0;34m'$f(x,y) > 0$'\u001b[0m\u001b[0;34m)\u001b[0m\u001b[0;34m\u001b[0m\u001b[0;34m\u001b[0m\u001b[0m\n\u001b[0m\u001b[1;32m     39\u001b[0m \u001b[0mplt\u001b[0m\u001b[0;34m.\u001b[0m\u001b[0mshow\u001b[0m\u001b[0;34m(\u001b[0m\u001b[0;34m)\u001b[0m\u001b[0;34m\u001b[0m\u001b[0;34m\u001b[0m\u001b[0m\n",
      "\u001b[0;32m~/anaconda3/lib/python3.7/site-packages/matplotlib/figure.py\u001b[0m in \u001b[0;36mcolorbar\u001b[0;34m(self, mappable, cax, ax, use_gridspec, **kw)\u001b[0m\n\u001b[1;32m   2127\u001b[0m                              'panchor']\n\u001b[1;32m   2128\u001b[0m         \u001b[0mcb_kw\u001b[0m \u001b[0;34m=\u001b[0m \u001b[0;34m{\u001b[0m\u001b[0mk\u001b[0m\u001b[0;34m:\u001b[0m \u001b[0mv\u001b[0m \u001b[0;32mfor\u001b[0m \u001b[0mk\u001b[0m\u001b[0;34m,\u001b[0m \u001b[0mv\u001b[0m \u001b[0;32min\u001b[0m \u001b[0mkw\u001b[0m\u001b[0;34m.\u001b[0m\u001b[0mitems\u001b[0m\u001b[0;34m(\u001b[0m\u001b[0;34m)\u001b[0m \u001b[0;32mif\u001b[0m \u001b[0mk\u001b[0m \u001b[0;32mnot\u001b[0m \u001b[0;32min\u001b[0m \u001b[0mNON_COLORBAR_KEYS\u001b[0m\u001b[0;34m}\u001b[0m\u001b[0;34m\u001b[0m\u001b[0;34m\u001b[0m\u001b[0m\n\u001b[0;32m-> 2129\u001b[0;31m         \u001b[0mcb\u001b[0m \u001b[0;34m=\u001b[0m \u001b[0mcbar\u001b[0m\u001b[0;34m.\u001b[0m\u001b[0mcolorbar_factory\u001b[0m\u001b[0;34m(\u001b[0m\u001b[0mcax\u001b[0m\u001b[0;34m,\u001b[0m \u001b[0mmappable\u001b[0m\u001b[0;34m,\u001b[0m \u001b[0;34m**\u001b[0m\u001b[0mcb_kw\u001b[0m\u001b[0;34m)\u001b[0m\u001b[0;34m\u001b[0m\u001b[0;34m\u001b[0m\u001b[0m\n\u001b[0m\u001b[1;32m   2130\u001b[0m \u001b[0;34m\u001b[0m\u001b[0m\n\u001b[1;32m   2131\u001b[0m         \u001b[0mself\u001b[0m\u001b[0;34m.\u001b[0m\u001b[0msca\u001b[0m\u001b[0;34m(\u001b[0m\u001b[0mcurrent_ax\u001b[0m\u001b[0;34m)\u001b[0m\u001b[0;34m\u001b[0m\u001b[0;34m\u001b[0m\u001b[0m\n",
      "\u001b[0;32m~/anaconda3/lib/python3.7/site-packages/matplotlib/colorbar.py\u001b[0m in \u001b[0;36mcolorbar_factory\u001b[0;34m(cax, mappable, **kwargs)\u001b[0m\n\u001b[1;32m   1565\u001b[0m         \u001b[0mcb\u001b[0m \u001b[0;34m=\u001b[0m \u001b[0mColorbarPatch\u001b[0m\u001b[0;34m(\u001b[0m\u001b[0mcax\u001b[0m\u001b[0;34m,\u001b[0m \u001b[0mmappable\u001b[0m\u001b[0;34m,\u001b[0m \u001b[0;34m**\u001b[0m\u001b[0mkwargs\u001b[0m\u001b[0;34m)\u001b[0m\u001b[0;34m\u001b[0m\u001b[0;34m\u001b[0m\u001b[0m\n\u001b[1;32m   1566\u001b[0m     \u001b[0;32melse\u001b[0m\u001b[0;34m:\u001b[0m\u001b[0;34m\u001b[0m\u001b[0;34m\u001b[0m\u001b[0m\n\u001b[0;32m-> 1567\u001b[0;31m         \u001b[0mcb\u001b[0m \u001b[0;34m=\u001b[0m \u001b[0mColorbar\u001b[0m\u001b[0;34m(\u001b[0m\u001b[0mcax\u001b[0m\u001b[0;34m,\u001b[0m \u001b[0mmappable\u001b[0m\u001b[0;34m,\u001b[0m \u001b[0;34m**\u001b[0m\u001b[0mkwargs\u001b[0m\u001b[0;34m)\u001b[0m\u001b[0;34m\u001b[0m\u001b[0;34m\u001b[0m\u001b[0m\n\u001b[0m\u001b[1;32m   1568\u001b[0m \u001b[0;34m\u001b[0m\u001b[0m\n\u001b[1;32m   1569\u001b[0m     \u001b[0mcid\u001b[0m \u001b[0;34m=\u001b[0m \u001b[0mmappable\u001b[0m\u001b[0;34m.\u001b[0m\u001b[0mcallbacksSM\u001b[0m\u001b[0;34m.\u001b[0m\u001b[0mconnect\u001b[0m\u001b[0;34m(\u001b[0m\u001b[0;34m'changed'\u001b[0m\u001b[0;34m,\u001b[0m \u001b[0mcb\u001b[0m\u001b[0;34m.\u001b[0m\u001b[0mon_mappable_changed\u001b[0m\u001b[0;34m)\u001b[0m\u001b[0;34m\u001b[0m\u001b[0;34m\u001b[0m\u001b[0m\n",
      "\u001b[0;32m~/anaconda3/lib/python3.7/site-packages/matplotlib/colorbar.py\u001b[0m in \u001b[0;36m__init__\u001b[0;34m(self, ax, mappable, **kw)\u001b[0m\n\u001b[1;32m   1096\u001b[0m                 \u001b[0mkw\u001b[0m\u001b[0;34m[\u001b[0m\u001b[0;34m'alpha'\u001b[0m\u001b[0;34m]\u001b[0m \u001b[0;34m=\u001b[0m \u001b[0mmappable\u001b[0m\u001b[0;34m.\u001b[0m\u001b[0mget_alpha\u001b[0m\u001b[0;34m(\u001b[0m\u001b[0;34m)\u001b[0m\u001b[0;34m\u001b[0m\u001b[0;34m\u001b[0m\u001b[0m\n\u001b[1;32m   1097\u001b[0m \u001b[0;34m\u001b[0m\u001b[0m\n\u001b[0;32m-> 1098\u001b[0;31m             \u001b[0mColorbarBase\u001b[0m\u001b[0;34m.\u001b[0m\u001b[0m__init__\u001b[0m\u001b[0;34m(\u001b[0m\u001b[0mself\u001b[0m\u001b[0;34m,\u001b[0m \u001b[0max\u001b[0m\u001b[0;34m,\u001b[0m \u001b[0;34m**\u001b[0m\u001b[0mkw\u001b[0m\u001b[0;34m)\u001b[0m\u001b[0;34m\u001b[0m\u001b[0;34m\u001b[0m\u001b[0m\n\u001b[0m\u001b[1;32m   1099\u001b[0m \u001b[0;34m\u001b[0m\u001b[0m\n\u001b[1;32m   1100\u001b[0m     \u001b[0;32mdef\u001b[0m \u001b[0mon_mappable_changed\u001b[0m\u001b[0;34m(\u001b[0m\u001b[0mself\u001b[0m\u001b[0;34m,\u001b[0m \u001b[0mmappable\u001b[0m\u001b[0;34m)\u001b[0m\u001b[0;34m:\u001b[0m\u001b[0;34m\u001b[0m\u001b[0;34m\u001b[0m\u001b[0m\n",
      "\u001b[0;32m~/anaconda3/lib/python3.7/site-packages/matplotlib/colorbar.py\u001b[0m in \u001b[0;36m__init__\u001b[0;34m(self, ax, cmap, norm, alpha, values, boundaries, orientation, ticklocation, extend, spacing, ticks, format, drawedges, filled, extendfrac, extendrect, label)\u001b[0m\n\u001b[1;32m    412\u001b[0m             \u001b[0mself\u001b[0m\u001b[0;34m.\u001b[0m\u001b[0mformatter\u001b[0m \u001b[0;34m=\u001b[0m \u001b[0mformat\u001b[0m  \u001b[0;31m# Assume it is a Formatter\u001b[0m\u001b[0;34m\u001b[0m\u001b[0;34m\u001b[0m\u001b[0m\n\u001b[1;32m    413\u001b[0m         \u001b[0;31m# The rest is in a method so we can recalculate when clim changes.\u001b[0m\u001b[0;34m\u001b[0m\u001b[0;34m\u001b[0m\u001b[0;34m\u001b[0m\u001b[0m\n\u001b[0;32m--> 414\u001b[0;31m         \u001b[0mself\u001b[0m\u001b[0;34m.\u001b[0m\u001b[0mdraw_all\u001b[0m\u001b[0;34m(\u001b[0m\u001b[0;34m)\u001b[0m\u001b[0;34m\u001b[0m\u001b[0;34m\u001b[0m\u001b[0m\n\u001b[0m\u001b[1;32m    415\u001b[0m \u001b[0;34m\u001b[0m\u001b[0m\n\u001b[1;32m    416\u001b[0m     \u001b[0;32mdef\u001b[0m \u001b[0m_extend_lower\u001b[0m\u001b[0;34m(\u001b[0m\u001b[0mself\u001b[0m\u001b[0;34m)\u001b[0m\u001b[0;34m:\u001b[0m\u001b[0;34m\u001b[0m\u001b[0;34m\u001b[0m\u001b[0m\n",
      "\u001b[0;32m~/anaconda3/lib/python3.7/site-packages/matplotlib/colorbar.py\u001b[0m in \u001b[0;36mdraw_all\u001b[0;34m(self)\u001b[0m\n\u001b[1;32m    436\u001b[0m         \u001b[0;31m# sets self._boundaries and self._values in real data units.\u001b[0m\u001b[0;34m\u001b[0m\u001b[0;34m\u001b[0m\u001b[0;34m\u001b[0m\u001b[0m\n\u001b[1;32m    437\u001b[0m         \u001b[0;31m# takes into account extend values:\u001b[0m\u001b[0;34m\u001b[0m\u001b[0;34m\u001b[0m\u001b[0;34m\u001b[0m\u001b[0m\n\u001b[0;32m--> 438\u001b[0;31m         \u001b[0mself\u001b[0m\u001b[0;34m.\u001b[0m\u001b[0m_process_values\u001b[0m\u001b[0;34m(\u001b[0m\u001b[0;34m)\u001b[0m\u001b[0;34m\u001b[0m\u001b[0;34m\u001b[0m\u001b[0m\n\u001b[0m\u001b[1;32m    439\u001b[0m         \u001b[0;31m# sets self.vmin and vmax in data units, but just for\u001b[0m\u001b[0;34m\u001b[0m\u001b[0;34m\u001b[0m\u001b[0;34m\u001b[0m\u001b[0m\n\u001b[1;32m    440\u001b[0m         \u001b[0;31m# the part of the colorbar that is not part of the extend\u001b[0m\u001b[0;34m\u001b[0m\u001b[0;34m\u001b[0m\u001b[0;34m\u001b[0m\u001b[0m\n",
      "\u001b[0;32m~/anaconda3/lib/python3.7/site-packages/matplotlib/colorbar.py\u001b[0m in \u001b[0;36m_process_values\u001b[0;34m(self, b)\u001b[0m\n\u001b[1;32m    842\u001b[0m                 \u001b[0mself\u001b[0m\u001b[0;34m.\u001b[0m\u001b[0mnorm\u001b[0m\u001b[0;34m.\u001b[0m\u001b[0mvmin\u001b[0m\u001b[0;34m,\u001b[0m\u001b[0;34m\u001b[0m\u001b[0;34m\u001b[0m\u001b[0m\n\u001b[1;32m    843\u001b[0m                 \u001b[0mself\u001b[0m\u001b[0;34m.\u001b[0m\u001b[0mnorm\u001b[0m\u001b[0;34m.\u001b[0m\u001b[0mvmax\u001b[0m\u001b[0;34m,\u001b[0m\u001b[0;34m\u001b[0m\u001b[0;34m\u001b[0m\u001b[0m\n\u001b[0;32m--> 844\u001b[0;31m                 expander=0.1)\n\u001b[0m\u001b[1;32m    845\u001b[0m \u001b[0;34m\u001b[0m\u001b[0m\n\u001b[1;32m    846\u001b[0m             \u001b[0mb\u001b[0m \u001b[0;34m=\u001b[0m \u001b[0mself\u001b[0m\u001b[0;34m.\u001b[0m\u001b[0mnorm\u001b[0m\u001b[0;34m.\u001b[0m\u001b[0minverse\u001b[0m\u001b[0;34m(\u001b[0m\u001b[0mself\u001b[0m\u001b[0;34m.\u001b[0m\u001b[0m_uniform_y\u001b[0m\u001b[0;34m(\u001b[0m\u001b[0mself\u001b[0m\u001b[0;34m.\u001b[0m\u001b[0mcmap\u001b[0m\u001b[0;34m.\u001b[0m\u001b[0mN\u001b[0m \u001b[0;34m+\u001b[0m \u001b[0;36m1\u001b[0m\u001b[0;34m)\u001b[0m\u001b[0;34m)\u001b[0m\u001b[0;34m\u001b[0m\u001b[0;34m\u001b[0m\u001b[0m\n",
      "\u001b[0;32m~/anaconda3/lib/python3.7/site-packages/matplotlib/transforms.py\u001b[0m in \u001b[0;36mnonsingular\u001b[0;34m(vmin, vmax, expander, tiny, increasing)\u001b[0m\n\u001b[1;32m   2900\u001b[0m         \u001b[0mvmax\u001b[0m \u001b[0;34m=\u001b[0m \u001b[0mexpander\u001b[0m\u001b[0;34m\u001b[0m\u001b[0;34m\u001b[0m\u001b[0m\n\u001b[1;32m   2901\u001b[0m \u001b[0;34m\u001b[0m\u001b[0m\n\u001b[0;32m-> 2902\u001b[0;31m     \u001b[0;32melif\u001b[0m \u001b[0mvmax\u001b[0m \u001b[0;34m-\u001b[0m \u001b[0mvmin\u001b[0m \u001b[0;34m<=\u001b[0m \u001b[0mmaxabsvalue\u001b[0m \u001b[0;34m*\u001b[0m \u001b[0mtiny\u001b[0m\u001b[0;34m:\u001b[0m\u001b[0;34m\u001b[0m\u001b[0;34m\u001b[0m\u001b[0m\n\u001b[0m\u001b[1;32m   2903\u001b[0m         \u001b[0;32mif\u001b[0m \u001b[0mvmax\u001b[0m \u001b[0;34m==\u001b[0m \u001b[0;36m0\u001b[0m \u001b[0;32mand\u001b[0m \u001b[0mvmin\u001b[0m \u001b[0;34m==\u001b[0m \u001b[0;36m0\u001b[0m\u001b[0;34m:\u001b[0m\u001b[0;34m\u001b[0m\u001b[0;34m\u001b[0m\u001b[0m\n\u001b[1;32m   2904\u001b[0m             \u001b[0mvmin\u001b[0m \u001b[0;34m=\u001b[0m \u001b[0;34m-\u001b[0m\u001b[0mexpander\u001b[0m\u001b[0;34m\u001b[0m\u001b[0;34m\u001b[0m\u001b[0m\n",
      "\u001b[0;31mTypeError\u001b[0m: numpy boolean subtract, the `-` operator, is deprecated, use the bitwise_xor, the `^` operator, or the logical_xor function instead."
     ]
    }
   ],
   "source": [
    "import numpy as np\n",
    "import time\n",
    "import matplotlib.pyplot as plt\n",
    "\n",
    "# Initialize variables for this exerise\n",
    "nvalues = 2000\n",
    "xvalues = np.linspace(-4,4,nvalues)\n",
    "yvalues = np.linspace(-4,4,nvalues)\n",
    "thresh  = 0\n",
    "\n",
    "\n",
    "# Nonvectorized implementation\n",
    "\n",
    "# Vectorized implementation\n",
    "X,Y = np.meshgrid(xvalues,yvalues)\n",
    "F = X**2 - 2 * Y**2\n",
    "F_threshold = F > thresh\n",
    "\n",
    "# Print the time for each and the speed increase\n",
    "\n",
    "# Plot the result\n",
    "\n",
    "# Plot the function f(x,y)\n",
    "plot1 = plt.imshow(F, extent=(-4,4,-4,4), cmap='RdBu')\n",
    "plt.xlabel('x')\n",
    "plt.ylabel('y')\n",
    "plt.title('$f(x,y) = x^2 - 2 * y^2$')\n",
    "color_bar_max = max([F.max(), abs(F.min())])\n",
    "plt.gcf().colorbar(plot1, label='$f(x,y)$')\n",
    "plot1.set_clim(-color_bar_max,color_bar_max)\n",
    "plt.show()\n",
    "\n",
    "# Plot the thresholded output f(x,y) > 0\n",
    "plot2 = plt.imshow(F_threshold, extent=(-4,4,-4,4), cmap='gray')\n",
    "plt.xlabel('x')\n",
    "plt.ylabel('y')\n",
    "plt.title('$f(x,y) > 0$')\n",
    "plt.gcf().colorbar(plot2, label='$f(x,y) > 0$')\n",
    "plt.show()"
   ]
  },
  {
   "cell_type": "markdown",
   "metadata": {},
   "source": [
    "## 9\n",
    "This exercise will walk through some basic numerical programming exercises.\n",
    "1. Synthesize $n=10^4$ normally distributed data points with mean $\\mu=2$ and a standard deviation of $\\sigma=1$. Call these observations from a random variable $X$, and call the vector of observations that you generate, $\\textbf{x}$.\n",
    "2. Calculate the mean and standard deviation of $\\textbf{x}$ to validate (1) and provide the result to a precision of four significant figures.\n",
    "3. Plot a histogram of the data in $\\textbf{x}$ with 30 bins\n",
    "4. What is the 90th percentile of $\\textbf{x}$? The 90th percentile is the value below which 90% of observations can be found.\n",
    "5. What is the 99th percentile of $\\textbf{x}$?\n",
    "6. Now synthesize $n=10^4$ normally distributed data points with mean $\\mu=0$ and a standard deviation of $\\sigma=3$. Call these observations from a random variable $Y$, and call the vector of observations that you generate, $\\textbf{y}$.\n",
    "7. Plot the histogram of the data in $\\textbf{y}$ on a (new) plot with the histogram of $\\textbf{x}$, so that both histograms can be seen and compared.\n",
    "8. Using the observations from $\\textbf{x}$ and $\\textbf{y}$, estimate $E[XY]$"
   ]
  },
  {
   "cell_type": "markdown",
   "metadata": {},
   "source": [
    "**ANSWER**"
   ]
  },
  {
   "cell_type": "code",
   "execution_count": null,
   "metadata": {},
   "outputs": [],
   "source": [
    "import numpy as np\n",
    "import matplotlib.pyplot as plt\n",
    "np.random.seed(1)"
   ]
  },
  {
   "cell_type": "code",
   "execution_count": 15,
   "metadata": {},
   "outputs": [
    {
     "name": "stdout",
     "output_type": "stream",
     "text": [
      "# 1.\n",
      "\n",
      "Random samples from x: [1.79749694 3.78066794 3.52335432 2.67302767 1.15505002]\n"
     ]
    }
   ],
   "source": [
    "print('# 1.\\n')\n",
    "x = np.random.normal(2, 1, 10**4)\n",
    "print('Random samples from x: {}'.format(x[0:5]))"
   ]
  },
  {
   "cell_type": "code",
   "execution_count": 23,
   "metadata": {},
   "outputs": [
    {
     "name": "stdout",
     "output_type": "stream",
     "text": [
      "# 2.\n",
      "\n",
      "x_mean = 2.028\n",
      "x_std  = 1.003\n"
     ]
    }
   ],
   "source": [
    "print('# 2.\\n')\n",
    "print('x_mean = {:.4}'.format(np.mean(x)))\n",
    "print('x_std  = {:.4}'.format(np.std(x)))"
   ]
  },
  {
   "cell_type": "code",
   "execution_count": 17,
   "metadata": {},
   "outputs": [
    {
     "name": "stdout",
     "output_type": "stream",
     "text": [
      "# 3.\n",
      "\n"
     ]
    },
    {
     "data": {
      "image/png": "[encoded data removed]",
      "text/plain": [
       "<Figure size 432x288 with 1 Axes>"
      ]
     },
     "metadata": {
      "needs_background": "light"
     },
     "output_type": "display_data"
    }
   ],
   "source": [
    "print('# 3.\\n')\n",
    "plt.hist(x,bins=30)\n",
    "plt.xlabel('x')\n",
    "plt.ylabel('Number of Samples')\n",
    "plt.grid(True)\n",
    "plt.show()"
   ]
  },
  {
   "cell_type": "code",
   "execution_count": 24,
   "metadata": {},
   "outputs": [
    {
     "name": "stdout",
     "output_type": "stream",
     "text": [
      "# 4.\n",
      "\n",
      "90th percentile = 3.306\n"
     ]
    }
   ],
   "source": [
    "print('# 4.\\n')\n",
    "percentile90 = np.percentile(x,90)\n",
    "print('90th percentile = {:.4}'.format(percentile90))"
   ]
  },
  {
   "cell_type": "code",
   "execution_count": 25,
   "metadata": {},
   "outputs": [
    {
     "name": "stdout",
     "output_type": "stream",
     "text": [
      "# 5.\n",
      "\n",
      "90th percentile = 4.364\n"
     ]
    }
   ],
   "source": [
    "print('# 5.\\n')\n",
    "percentile99 = np.percentile(x,99)\n",
    "print('90th percentile = {:.4}'.format(percentile99))"
   ]
  },
  {
   "cell_type": "code",
   "execution_count": 26,
   "metadata": {},
   "outputs": [
    {
     "name": "stdout",
     "output_type": "stream",
     "text": [
      "# 6.\n",
      "\n",
      "Samples from y: [ 4.80177874  1.11374315 -1.16140931  0.84336627  1.64134559]\n"
     ]
    }
   ],
   "source": [
    "print('# 6.\\n')\n",
    "y = np.random.normal(0, 3, 10**4)\n",
    "print('Samples from y: {}'.format(y[0:5]))"
   ]
  },
  {
   "cell_type": "code",
   "execution_count": 28,
   "metadata": {},
   "outputs": [
    {
     "name": "stdout",
     "output_type": "stream",
     "text": [
      "# 7.\n",
      "\n"
     ]
    },
    {
     "data": {
      "image/png": "[encoded data removed]",
      "text/plain": [
       "<Figure size 432x288 with 1 Axes>"
      ]
     },
     "metadata": {
      "needs_background": "light"
     },
     "output_type": "display_data"
    }
   ],
   "source": [
    "print('# 7.\\n')\n",
    "histx, binsx = plt.hist(x, bins=30), plt.hist(y, bins=30, alpha=0.6)\n",
    "\n",
    "plt.xlabel('Values')\n",
    "plt.ylabel('Number of samples')\n",
    "plt.grid(True)\n",
    "plt.show()"
   ]
  },
  {
   "cell_type": "code",
   "execution_count": 29,
   "metadata": {},
   "outputs": [
    {
     "name": "stdout",
     "output_type": "stream",
     "text": [
      "# 8.\n",
      "\n",
      "E[XY] =  -0.0343030654968828\n"
     ]
    }
   ],
   "source": [
    "print('# 8.\\n')\n",
    "print('E[XY] = ', np.mean(x)*np.mean(y))"
   ]
  },
  {
   "cell_type": "markdown",
   "metadata": {},
   "source": [
    "## 10\n",
    "Estimate the integral of the function $f(x)$ on the interval $0\\leq x < 2.5$ assuming we only know the following points from $f$:\n",
    "\n",
    "*Table 1. Dataset containing n=5 observations*\n",
    "\n",
    "| $x_i$ | 0.0 | 0.5 | 1.0 | 1.5 | 2.0 |\n",
    "|-|-|-|-|-|-|\n",
    "| $y_i$ | 6 | 7 | 8 | 4 | 1 |\n"
   ]
  },
  {
   "cell_type": "code",
   "execution_count": 9,
   "metadata": {},
   "outputs": [
    {
     "name": "stdout",
     "output_type": "stream",
     "text": [
      "The integral of y is: 11.25\n"
     ]
    }
   ],
   "source": [
    "x = np.array([0, 0.5, 1.0, 1.5, 2.0])\n",
    "y = np.array([6, 7, 8, 4, 1])\n",
    "\n",
    "y_dif = (y[:-1] + y[1:]) / 2\n",
    "dx = x[1:] - x[:-1]\n",
    "\n",
    "int_y = sum(y_dif * dx )\n",
    "\n",
    "print(f'The integral of y is: {int_y}')"
   ]
  },
  {
   "cell_type": "markdown",
   "metadata": {},
   "source": [
    "**ANSWER**\n",
    "11.25\n"
   ]
  },
  {
   "cell_type": "markdown",
   "metadata": {
    "collapsed": true
   },
   "source": [
    "# Version Control via Git"
   ]
  },
  {
   "cell_type": "markdown",
   "metadata": {},
   "source": [
    "## 11\n",
    "Complete the [Atlassian Git tutorial](https://www.atlassian.com/git/tutorials/what-is-version-control), specifically the following sections. Try each concept that's presented. For this tutorial, instead of using BitBucket, use Github. Create a github account here if you don't already have one: https://github.com/\n",
    "1. [What is version control](https://www.atlassian.com/git/tutorials/what-is-version-control)\n",
    "2. [What is Git](https://www.atlassian.com/git/tutorials/what-is-git)\n",
    "3. [Install Git](https://www.atlassian.com/git/tutorials/install-git)\n",
    "4. [Setting up a repository](https://www.atlassian.com/git/tutorials/install-git)\n",
    "5. [Saving changes](https://www.atlassian.com/git/tutorials/saving-changes)\n",
    "6. [Inspecting a repository](https://www.atlassian.com/git/tutorials/inspecting-a-repository)\n",
    "7. [Undoing changes](https://www.atlassian.com/git/tutorials/undoing-changes)\n",
    "8. [Rewriting history](https://www.atlassian.com/git/tutorials/rewriting-history)\n",
    "9. [Syncing](https://www.atlassian.com/git/tutorials/syncing)\n",
    "10. [Making a pull request](https://www.atlassian.com/git/tutorials/making-a-pull-request)\n",
    "11. [Using branches](https://www.atlassian.com/git/tutorials/using-branches)\n",
    "12. [Comparing workflows](https://www.atlassian.com/git/tutorials/comparing-workflows)\n",
    "\n",
    "For your answer, affirm that you either completed the tutorial or have previous experience with all of the concepts above. Do this by typing your name below and selecting the situation that applies from the two options in brackets."
   ]
  },
  {
   "cell_type": "markdown",
   "metadata": {},
   "source": [
    "**ANSWER**\n",
    "\n",
    "*I, [**Vivek Sahukar**], affirm that I have [**completed the above tutorial**]*"
   ]
  },
  {
   "cell_type": "markdown",
   "metadata": {},
   "source": [
    "## 12\n",
    "Using Github to create a static HTML website:\n",
    "1. Create a branch in your `machine-learning-course` repo called \"gh-pages\" and checkout that branch (this will provide an example of how to create a simple static website using [Github Pages](https://pages.github.com/))\n",
    "2. Create a file called \"index.html\" with the contents \"Hello World\" and add, commit, and push it to that branch.\n",
    "3. Submit the following: (a) a link to your github repository and (b) a link to your new \"Hello World\" website. The latter should be at the address https://[USERNAME].github.io/ECE590-assignment0 (where [USERNAME] is your github username)."
   ]
  },
  {
   "cell_type": "markdown",
   "metadata": {},
   "source": [
    "**ANSWER**\n",
    "\n"
   ]
  },
  {
   "cell_type": "markdown",
   "metadata": {
    "collapsed": true
   },
   "source": [
    "# Exploratory Data Analysis\n",
    "## 13\n",
    "Here you'll bring together some of the individual skills that you demonstrated above and create a Jupyter notebook based blog post on data analysis.\n",
    "\n",
    "1. Find a dataset that interests you and relates to a question or problem that you find intriguing\n",
    "2. Using a Jupyter notebook, describe the dataset, the source of the data, and the reason the dataset was of interest.\n",
    "3. Check the data and see if they need to be cleaned: are there missing values? Are there clearly erroneous values? Do two tables need to be merged together? Clean the data so it can be visualized.\n",
    "3. Plot the data, demonstrating interesting features that you discover. Are there any relationships between variables that were surprising or patterns that emerged? Please exercise creativity and curiosity in your plots.\n",
    "4. What insights are you able to take away from exploring the data? Is there a reason why analyzing the dataset you chose is particularly interesting or important? Summarize this as if your target audience was the readership of a major news organization - boil down your findings in a way that is accessible, but still accurate.\n",
    "5. Create a public repository on your github account titled \"machine-learning-course\". In it, create a readme file that contains the heading \"ECE590: Introductory Machine Learning for Data Science\". Add, commit, and push that Jupyter notebook to the master branch. Provide the link to the that post here."
   ]
  },
  {
   "cell_type": "markdown",
   "metadata": {},
   "source": [
    "**ANSWER**\n",
    "\n"
   ]
  }
 ],
 "metadata": {
  "kernelspec": {
   "display_name": "Python 3",
   "language": "python",
   "name": "python3"
  },
  "language_info": {
   "codemirror_mode": {
    "name": "ipython",
    "version": 3
   },
   "file_extension": ".py",
   "mimetype": "text/x-python",
   "name": "python",
   "nbconvert_exporter": "python",
   "pygments_lexer": "ipython3",
   "version": "3.7.2"
  }
 },
 "nbformat": 4,
 "nbformat_minor": 2
}
